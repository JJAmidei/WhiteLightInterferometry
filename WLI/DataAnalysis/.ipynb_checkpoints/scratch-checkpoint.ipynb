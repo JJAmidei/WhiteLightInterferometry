{
 "cells": [
  {
   "cell_type": "code",
   "execution_count": null,
   "id": "f23accb4-af77-42ae-ac42-81f59479ee4b",
   "metadata": {},
   "outputs": [],
   "source": [
    "from scipy.signal import butter, filtfilt\n",
    "from scipy.stats import pearsonr\n",
    "import numpy as np\n",
    "import matplotlib.pyplot as plt\n",
    "import os\n",
    "import scipy.io as sio\n",
    "import h5py"
   ]
  },
  {
   "cell_type": "code",
   "execution_count": 1,
   "id": "53988990-e67c-4c23-a53e-e9f488be1421",
   "metadata": {},
   "outputs": [
    {
     "ename": "NameError",
     "evalue": "name 'plt' is not defined",
     "output_type": "error",
     "traceback": [
      "\u001b[0;31m---------------------------------------------------------------------------\u001b[0m",
      "\u001b[0;31mNameError\u001b[0m                                 Traceback (most recent call last)",
      "Cell \u001b[0;32mIn[1], line 2\u001b[0m\n\u001b[1;32m      1\u001b[0m \u001b[38;5;66;03m# Compare HeNe and White Light for one scan\u001b[39;00m\n\u001b[0;32m----> 2\u001b[0m fig, axes \u001b[38;5;241m=\u001b[39m plt\u001b[38;5;241m.\u001b[39msubplots(\u001b[38;5;241m2\u001b[39m, \u001b[38;5;241m1\u001b[39m, figsize\u001b[38;5;241m=\u001b[39m(\u001b[38;5;241m14\u001b[39m, \u001b[38;5;241m10\u001b[39m))\n\u001b[1;32m      4\u001b[0m scan_idx \u001b[38;5;241m=\u001b[39m \u001b[38;5;241m0\u001b[39m\n\u001b[1;32m      6\u001b[0m \u001b[38;5;66;03m# Full HeNe data\u001b[39;00m\n",
      "\u001b[0;31mNameError\u001b[0m: name 'plt' is not defined"
     ]
    }
   ],
   "source": [
    "# Compare HeNe and White Light for one scan\n",
    "fig, axes = plt.subplots(2, 1, figsize=(14, 10))\n",
    "\n",
    "scan_idx = 0\n",
    "\n",
    "# Full HeNe data\n",
    "axes[0].plot(hn_arrays[scan_idx], color='red', alpha=0.8)\n",
    "axes[0].set_ylabel('Intensity', fontweight='bold')\n",
    "axes[0].set_title(f'HeNe Data - Scan {scan_idx}', fontweight='bold')\n",
    "axes[0].grid(True)\n",
    "\n",
    "# Full White Light data\n",
    "axes[1].plot(wl_arrays[scan_idx], color='black', alpha=0.8)\n",
    "axes[1].set_ylabel('Intensity', fontweight='bold')\n",
    "axes[1].set_xlabel('Distance [bins]', fontweight='bold')\n",
    "axes[1].set_title(f'White Light Data - Scan {scan_idx}', fontweight='bold')\n",
    "axes[1].grid(True)\n",
    "\n",
    "plt.tight_layout()\n",
    "plt.show()\n",
    "\n",
    "# Check the frequency content\n",
    "fig, axes = plt.subplots(2, 1, figsize=(14, 10))\n",
    "\n",
    "# FFT of HeNe\n",
    "hn_fft = np.abs(fft(hn_cropped[0]))\n",
    "hn_freqs = fftfreq(len(hn_cropped[0]))\n",
    "axes[0].plot(hn_freqs[:len(hn_freqs)//2], hn_fft[:len(hn_fft)//2], color='red')\n",
    "axes[0].set_ylabel('Amplitude', fontweight='bold')\n",
    "axes[0].set_title('HeNe Frequency Spectrum', fontweight='bold')\n",
    "axes[0].set_xlim([0, 0.5])\n",
    "axes[0].grid(True)\n",
    "\n",
    "# FFT of White Light\n",
    "wl_fft = np.abs(fft(wl_cropped[0]))\n",
    "wl_freqs = fftfreq(len(wl_cropped[0]))\n",
    "axes[1].plot(wl_freqs[:len(wl_freqs)//2], wl_fft[:len(wl_fft)//2], color='black')\n",
    "axes[1].set_ylabel('Amplitude', fontweight='bold')\n",
    "axes[1].set_xlabel('Spatial Frequency [cycles/bin]', fontweight='bold')\n",
    "axes[1].set_title('White Light Frequency Spectrum', fontweight='bold')\n",
    "axes[1].set_xlim([0, 0.5])\n",
    "axes[1].grid(True)\n",
    "\n",
    "plt.tight_layout()\n",
    "plt.show()"
   ]
  },
  {
   "cell_type": "code",
   "execution_count": null,
   "id": "4f8038e9-55e4-494a-944c-d2ed82999e3a",
   "metadata": {},
   "outputs": [],
   "source": [
    "from scipy.signal import butter, filtfilt\n",
    "\n",
    "def lowpass_filter(signal, cutoff_freq=0.01, fs=1.0):\n",
    "    \"\"\"\n",
    "    Apply a lowpass filter to remove high-frequency oscillations\n",
    "    \"\"\"\n",
    "    nyquist = 0.5 * fs\n",
    "    normal_cutoff = cutoff_freq / nyquist\n",
    "    b, a = butter(5, normal_cutoff, btype='low', analog=False)\n",
    "    filtered = filtfilt(b, a, signal)\n",
    "    return filtered\n",
    "\n",
    "# Filter all HeNe scans to remove fringes\n",
    "hn_filtered = [lowpass_filter(hn) for hn in hn_cropped]\n",
    "\n",
    "# Average the filtered data\n",
    "hn_avg_filtered = np.mean(hn_filtered, axis=0)\n",
    "\n",
    "plt.figure(figsize=(12, 6))\n",
    "plt.plot(hn_cropped[0], label='Original HeNe', alpha=0.5)\n",
    "plt.plot(hn_filtered[0], label='Filtered HeNe', linewidth=2)\n",
    "plt.xlabel('Distance [bins]', fontweight='bold')\n",
    "plt.ylabel('Intensity', fontweight='bold')\n",
    "plt.title('HeNe: Original vs Filtered', fontweight='bold')\n",
    "plt.legend()\n",
    "plt.grid(True)\n",
    "plt.show()"
   ]
  }
 ],
 "metadata": {
  "kernelspec": {
   "display_name": "Python 3 (ipykernel)",
   "language": "python",
   "name": "python3"
  },
  "language_info": {
   "codemirror_mode": {
    "name": "ipython",
    "version": 3
   },
   "file_extension": ".py",
   "mimetype": "text/x-python",
   "name": "python",
   "nbconvert_exporter": "python",
   "pygments_lexer": "ipython3",
   "version": "3.13.5"
  }
 },
 "nbformat": 4,
 "nbformat_minor": 5
}
